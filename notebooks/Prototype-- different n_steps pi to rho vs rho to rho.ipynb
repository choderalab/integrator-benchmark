{
 "cells": [
  {
   "cell_type": "markdown",
   "metadata": {},
   "source": [
    "Realization: I don't actually need to take the number of steps very large..."
   ]
  },
  {
   "cell_type": "code",
   "execution_count": 1,
   "metadata": {},
   "outputs": [
    {
     "name": "stdout",
     "output_type": "stream",
     "text": [
      "OpenMM version:  7.2.0.dev-fb607c7\n",
      "OpenMM version:  7.2.0.dev-fb607c7\n",
      "\tRemoving CMMotionRemover\n",
      "\tRemoving CMMotionRemover\n",
      "Desired platform not supported\n",
      "Desired platform not supported\n",
      "Desired platform not supported\n",
      "Desired platform not supported\n",
      "Desired platform not supported\n",
      "\tRemoving CMMotionRemover\n",
      "Desired platform not supported\n",
      "\tRemoving CMMotionRemover\n",
      "Desired platform not supported\n",
      "\tRemoving CMMotionRemover\n",
      "Desired platform not supported\n",
      "\tRemoving CMMotionRemover\n",
      "Desired platform not supported\n",
      "\tRemoving CMMotionRemover\n",
      "Desired platform not supported\n",
      "\tRemoving CMMotionRemover\n",
      "Desired platform not supported\n"
     ]
    }
   ],
   "source": [
    "from benchmark.testsystems import alanine_constrained\n",
    "from benchmark.testsystems import NonequilibriumSimulator\n",
    "from benchmark.integrators import LangevinSplittingIntegrator\n",
    "\n",
    "from benchmark import simulation_parameters\n",
    "temperature = simulation_parameters['temperature']\n",
    "from simtk import unit\n",
    "import numpy as np\n",
    "\n",
    "from tqdm import tqdm\n",
    "\n",
    "import matplotlib.pyplot as plt\n",
    "%matplotlib inline"
   ]
  },
  {
   "cell_type": "code",
   "execution_count": 2,
   "metadata": {},
   "outputs": [],
   "source": [
    "def integrator_factory(scheme='V R O R V'):\n",
    "    return LangevinSplittingIntegrator(splitting=scheme,\n",
    "                                         temperature=temperature,\n",
    "                                         collision_rate=1.0 / unit.picosecond)"
   ]
  },
  {
   "cell_type": "code",
   "execution_count": 3,
   "metadata": {},
   "outputs": [],
   "source": [
    "# what's the one-step shadow work distribution at steady-state? is it a lot less difficult than the\n",
    "# 1000-step work distribution?"
   ]
  },
  {
   "cell_type": "code",
   "execution_count": 18,
   "metadata": {},
   "outputs": [],
   "source": [
    "from benchmark.evaluation.compare_near_eq_and_exact import stdev_log_rho_pi"
   ]
  },
  {
   "cell_type": "code",
   "execution_count": 19,
   "metadata": {},
   "outputs": [],
   "source": [
    "integrator = integrator_factory()"
   ]
  },
  {
   "cell_type": "code",
   "execution_count": 20,
   "metadata": {},
   "outputs": [],
   "source": [
    "integrator.setStepSize(4.5 * unit.femtosecond)"
   ]
  },
  {
   "cell_type": "code",
   "execution_count": 21,
   "metadata": {},
   "outputs": [],
   "source": [
    "noneq_sim = NonequilibriumSimulator(alanine_constrained, integrator)"
   ]
  },
  {
   "cell_type": "code",
   "execution_count": 22,
   "metadata": {},
   "outputs": [],
   "source": [
    "x0 = noneq_sim.sample_x_from_equilibrium()\n",
    "v0 = noneq_sim.sample_v_given_x(x0)"
   ]
  },
  {
   "cell_type": "code",
   "execution_count": 28,
   "metadata": {},
   "outputs": [
    {
     "data": {
      "text/plain": [
       "4.500000000000001"
      ]
     },
     "execution_count": 28,
     "metadata": {},
     "output_type": "execute_result"
    }
   ],
   "source": [
    "noneq_sim.integrator.getStepSize().value_in_unit(unit.femtosecond)"
   ]
  },
  {
   "cell_type": "code",
   "execution_count": 24,
   "metadata": {},
   "outputs": [
    {
     "name": "stderr",
     "output_type": "stream",
     "text": [
      "100%|██████████| 1000/1000 [01:16<00:00, 12.79it/s]\n"
     ]
    }
   ],
   "source": [
    "from tqdm import tqdm\n",
    "Ws = [noneq_sim.accumulate_shadow_work(x0, v0, 1000)['W_shad'] for _ in tqdm(range(1000))]"
   ]
  },
  {
   "cell_type": "code",
   "execution_count": 26,
   "metadata": {},
   "outputs": [
    {
     "data": {
      "image/png": "[encoded data removed]",
      "text/plain": [
       "<matplotlib.figure.Figure at 0x129c64c88>"
      ]
     },
     "metadata": {},
     "output_type": "display_data"
    }
   ],
   "source": [
    "plt.hist(Ws, bins=50);"
   ]
  },
  {
   "cell_type": "code",
   "execution_count": 30,
   "metadata": {},
   "outputs": [],
   "source": [
    "noneq_sim.simulation.step(10000)"
   ]
  },
  {
   "cell_type": "code",
   "execution_count": 31,
   "metadata": {},
   "outputs": [],
   "source": [
    "from benchmark.testsystems.bookkeepers import get_state_as_mdtraj"
   ]
  },
  {
   "cell_type": "code",
   "execution_count": 33,
   "metadata": {},
   "outputs": [],
   "source": [
    "x0 = get_state_as_mdtraj(noneq_sim.simulation)"
   ]
  },
  {
   "cell_type": "code",
   "execution_count": 35,
   "metadata": {},
   "outputs": [],
   "source": [
    "v0 = noneq_sim.simulation.context.getState(getVelocities=True).getVelocities(asNumpy=True)"
   ]
  },
  {
   "cell_type": "code",
   "execution_count": 55,
   "metadata": {},
   "outputs": [
    {
     "name": "stderr",
     "output_type": "stream",
     "text": [
      "100%|██████████| 10000/10000 [00:04<00:00, 2111.66it/s]\n",
      "100%|██████████| 10000/10000 [00:05<00:00, 1742.33it/s]\n",
      "100%|██████████| 10000/10000 [00:06<00:00, 1536.36it/s]\n",
      "100%|██████████| 10000/10000 [00:07<00:00, 1352.68it/s]\n",
      "100%|██████████| 10000/10000 [00:08<00:00, 1243.52it/s]\n",
      "100%|██████████| 10000/10000 [00:11<00:00, 836.93it/s]\n",
      "100%|██████████| 10000/10000 [00:23<00:00, 420.41it/s]\n",
      "100%|██████████| 10000/10000 [00:42<00:00, 235.37it/s]\n",
      "100%|██████████| 10000/10000 [01:19<00:00, 125.72it/s]\n"
     ]
    }
   ],
   "source": [
    "from tqdm import tqdm\n",
    "\n",
    "n_steps_list = [1,2,3,4,5,10,25,50,100]\n",
    "all_Ws = []\n",
    "\n",
    "for n_steps in n_steps_list:\n",
    "    Ws = np.array([noneq_sim.accumulate_shadow_work(x0, v0, n_steps)['W_shad'] for _ in tqdm(range(10000))])\n",
    "    all_Ws.append(Ws)"
   ]
  },
  {
   "cell_type": "code",
   "execution_count": 56,
   "metadata": {},
   "outputs": [],
   "source": [
    "import seaborn.apionly as sns\n",
    "colors = sns.color_palette(\"GnBu_d\", n_colors=len(n_steps_list))"
   ]
  },
  {
   "cell_type": "code",
   "execution_count": 81,
   "metadata": {},
   "outputs": [
    {
     "data": {
      "text/plain": [
       "<matplotlib.text.Text at 0x13c3bf908>"
      ]
     },
     "execution_count": 81,
     "metadata": {},
     "output_type": "execute_result"
    },
    {
     "data": {
      "image/png": "[encoded data removed]",
      "text/plain": [
       "<matplotlib.figure.Figure at 0x13c539a90>"
      ]
     },
     "metadata": {},
     "output_type": "display_data"
    }
   ],
   "source": [
    "stdevs = np.array([stdev_log_rho_pi(w) for w in all_Ws])\n",
    "plt.plot(n_steps_list, stdevs)\n",
    "#plt.xscale('log')\n",
    "#plt.yscale('log')\n",
    "plt.xlabel('# steps')\n",
    "plt.ylabel('stdev(log(rho(x) / pi(x)))')"
   ]
  },
  {
   "cell_type": "code",
   "execution_count": null,
   "metadata": {},
   "outputs": [],
   "source": []
  },
  {
   "cell_type": "code",
   "execution_count": null,
   "metadata": {},
   "outputs": [],
   "source": []
  },
  {
   "cell_type": "code",
   "execution_count": 72,
   "metadata": {},
   "outputs": [
    {
     "data": {
      "text/plain": [
       "<matplotlib.text.Text at 0x13b63b828>"
      ]
     },
     "execution_count": 72,
     "metadata": {},
     "output_type": "execute_result"
    },
    {
     "data": {
      "image/png": "[encoded data removed]",
      "text/plain": [
       "<matplotlib.figure.Figure at 0x13b49b748>"
      ]
     },
     "metadata": {},
     "output_type": "display_data"
    }
   ],
   "source": [
    "ax = plt.subplot(111)\n",
    "means = np.array([np.log(np.mean(np.exp(-w))) for w in all_Ws])\n",
    "plt.plot(n_steps_list, means)\n",
    "plt.fill_between(n_steps_list, means - 1.96 * stdevs, means + 1.96 * stdevs, alpha=0.5)\n",
    "#plt.xscale('log')\n",
    "#plt.yscale('log')\n",
    "ax.spines['right'].set_visible(False)\n",
    "ax.spines['top'].set_visible(False)\n",
    "plt.xlabel('# steps')\n",
    "plt.ylabel('estimated log(rho(x) / pi(x))')\n",
    "plt.title(\"why isn't this constant...\")"
   ]
  },
  {
   "cell_type": "code",
   "execution_count": 62,
   "metadata": {},
   "outputs": [
    {
     "data": {
      "text/plain": [
       "([], <a list of 0 Text yticklabel objects>)"
      ]
     },
     "execution_count": 62,
     "metadata": {},
     "output_type": "execute_result"
    },
    {
     "data": {
      "image/png": "[encoded data removed]",
      "text/plain": [
       "<matplotlib.figure.Figure at 0x12f622fd0>"
      ]
     },
     "metadata": {},
     "output_type": "display_data"
    }
   ],
   "source": [
    "for i, (n_steps, Ws) in enumerate(zip(n_steps_list, all_Ws)):\n",
    "    plt.hist(Ws, bins=50, alpha=0.5, color=colors[i], label=str(n_steps), normed=True);\n",
    "plt.legend(loc='best')\n",
    "plt.yscale('log')\n",
    "plt.yticks([])"
   ]
  },
  {
   "cell_type": "code",
   "execution_count": 80,
   "metadata": {},
   "outputs": [
    {
     "name": "stderr",
     "output_type": "stream",
     "text": [
      "/Users/joshuafass/anaconda/lib/python3.6/site-packages/matplotlib/axes/_axes.py:545: UserWarning: No labelled objects found. Use label='...' kwarg on individual plots.\n",
      "  warnings.warn(\"No labelled objects found. \"\n"
     ]
    },
    {
     "data": {
      "text/plain": [
       "<matplotlib.text.Text at 0x13c0f7a90>"
      ]
     },
     "execution_count": 80,
     "metadata": {},
     "output_type": "execute_result"
    },
    {
     "data": {
      "image/png": "[encoded data removed]",
      "text/plain": [
       "<matplotlib.figure.Figure at 0x13bcb5908>"
      ]
     },
     "metadata": {},
     "output_type": "display_data"
    }
   ],
   "source": [
    "x_ = np.array(n_steps_list)\n",
    "y_ = np.array([np.mean(Ws) for Ws in all_Ws])\n",
    "y_stdev = np.array([np.std(Ws) for Ws in all_Ws])\n",
    "\n",
    "plt.plot(x_, y_)\n",
    "plt.fill_between(x_, y_ - y_stdev, y_ + y_stdev, alpha=0.5)\n",
    "\n",
    "plt.legend(loc='best')\n",
    "#plt.yscale('log')\n",
    "#plt.yticks([])\n",
    "plt.xscale('log')\n",
    "\n",
    "plt.xlabel('# steps')\n",
    "plt.ylabel('mean(W) +/- stdev(W)')"
   ]
  },
  {
   "cell_type": "code",
   "execution_count": null,
   "metadata": {},
   "outputs": [],
   "source": [
    "# okay, let's see what "
   ]
  }
 ],
 "metadata": {
  "kernelspec": {
   "display_name": "Python 3",
   "language": "python",
   "name": "python3"
  },
  "language_info": {
   "codemirror_mode": {
    "name": "ipython",
    "version": 3
   },
   "file_extension": ".py",
   "mimetype": "text/x-python",
   "name": "python",
   "nbconvert_exporter": "python",
   "pygments_lexer": "ipython3",
   "version": "3.6.0"
  }
 },
 "nbformat": 4,
 "nbformat_minor": 2
}
