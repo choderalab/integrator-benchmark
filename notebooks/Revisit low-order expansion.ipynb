{
 "cells": [
  {
   "cell_type": "markdown",
   "metadata": {},
   "source": [
    "In an October 9, 2017 Slack message (https://choderalab.slack.com/files/U026RHN4X/F7FQ5S002/image_uploaded_from_ios.jpg), John derived the following low-order expansion:\n",
    "\n",
    "Starting point: the nested expectation we ended up attempting to estimate directly using a plug-in Monte Carlo method:\n",
    "$$\\newcommand{DKL}{\\mathcal{D}_\\text{KL}} \\DKL(\\rho \\| \\pi) = \\left\\langle \\ln \\langle e^{-w} \\rangle_{x_0; \\Lambda} \\right\\rangle_\\rho$$"
   ]
  },
  {
   "cell_type": "markdown",
   "metadata": {},
   "source": [
    "End-point: $$\\begin{aligned}\n",
    "\\DKL(\\rho \\| \\pi) &\\approx \\left\\langle \\frac{\\langle \\Delta w ^2 \\rangle_{x_0; \\Lambda}}{2} \\right\\rangle_\\rho - \\langle w \\rangle_{\\rho; \\Lambda}\\\\\n",
    "&= \\frac{1}{2} \\langle \\Delta w^2 \\rangle_\\rho - \\langle w \\rangle_{\\rho; \\Lambda}\\end{aligned}$$\n",
    "which is a low order approximation when $\\langle \\Delta w^2 \\rangle < 1$...\n",
    "\n",
    "We had abandoned this estimator when we checked the variance of the work distributions for the `WaterBox`, and found they were much larger than 1 for timesteps of interest (e.g. for OVRVO at 5fs, the 100-step work distribution at steady-state had a variance of ~15-20)."
   ]
  },
  {
   "cell_type": "markdown",
   "metadata": {},
   "source": [
    "We have since switched from the `WaterBox` testsystem to a more-manageable `WaterCluster` testsystem, and we have a ton of work samples to look at. Also, the plug-in estimator of that nested expectation is biased at large stepsizes and was super expensive.\n",
    "\n",
    "Thus, I'm revisiting the estimator based on the low-order expansion."
   ]
  },
  {
   "cell_type": "code",
   "execution_count": 1,
   "metadata": {},
   "outputs": [],
   "source": [
    "import numpy as np\n",
    "def low_order_estimator(works):\n",
    "    return 0.5 * np.var(works) - np.mean(works)"
   ]
  },
  {
   "cell_type": "code",
   "execution_count": 2,
   "metadata": {},
   "outputs": [],
   "source": [
    "# so, we have near-equilibrium results all in one place:\n",
    "from pickle import load\n",
    "from simtk import unit\n",
    "\n",
    "with open('result_summary.pkl', 'rb') as f:\n",
    "    near_eq_result_summary = load(f)\n",
    "    \n",
    "# and nested-MC estimates in two places:\n",
    "\n",
    "# (1) the samples collected in parallel for dt >= 5fs\n",
    "from glob import glob\n",
    "fnames = glob('../data/tight_tolerance_results_parallel_5x/summary_*.pkl')\n",
    "results = []\n",
    "for fname in fnames:\n",
    "    with open(fname, 'rb') as f:\n",
    "        results.append(load(f))"
   ]
  },
  {
   "cell_type": "code",
   "execution_count": 3,
   "metadata": {},
   "outputs": [],
   "source": [
    "#near_eq_result_summary"
   ]
  },
  {
   "cell_type": "code",
   "execution_count": 4,
   "metadata": {},
   "outputs": [],
   "source": [
    "Ws = results[-1][1]['Ws']"
   ]
  },
  {
   "cell_type": "code",
   "execution_count": 5,
   "metadata": {},
   "outputs": [
    {
     "data": {
      "text/plain": [
       "(5544350,)"
      ]
     },
     "execution_count": 5,
     "metadata": {},
     "output_type": "execute_result"
    }
   ],
   "source": [
    "works = np.hstack(Ws)\n",
    "works.shape"
   ]
  },
  {
   "cell_type": "code",
   "execution_count": 6,
   "metadata": {},
   "outputs": [
    {
     "data": {
      "text/plain": [
       "0.18277783294098088"
      ]
     },
     "execution_count": 6,
     "metadata": {},
     "output_type": "execute_result"
    }
   ],
   "source": [
    "low_order_estimator(works)"
   ]
  },
  {
   "cell_type": "code",
   "execution_count": 7,
   "metadata": {},
   "outputs": [
    {
     "name": "stderr",
     "output_type": "stream",
     "text": [
      "100%|██████████| 56/56 [00:08<00:00,  7.71it/s]\n"
     ]
    }
   ],
   "source": [
    "from tqdm import tqdm\n",
    "np.random.seed(0)\n",
    "low_order_estimates = []\n",
    "low_order_uncs = []\n",
    "variances = []\n",
    "\n",
    "n_bootstrap_samples = 100\n",
    "for result in tqdm(results):\n",
    "    Ws = result[1]['Ws']\n",
    "    works = np.hstack(Ws)\n",
    "    \n",
    "    estimates = []\n",
    "    for _ in range(n_bootstrap_samples):\n",
    "        \n",
    "        works_ = works[np.random.randint(0,len(works),5000)]\n",
    "        estimates.append(low_order_estimator(works_))\n",
    "    \n",
    "    variances.append(np.var(works))\n",
    "    low_order_estimates.append(np.mean(estimates))\n",
    "    low_order_uncs.append(np.std(estimates))"
   ]
  },
  {
   "cell_type": "code",
   "execution_count": 8,
   "metadata": {},
   "outputs": [
    {
     "data": {
      "text/plain": [
       "nan"
      ]
     },
     "execution_count": 8,
     "metadata": {},
     "output_type": "execute_result"
    }
   ],
   "source": [
    "np.mean(variances)"
   ]
  },
  {
   "cell_type": "code",
   "execution_count": 9,
   "metadata": {},
   "outputs": [],
   "source": [
    "variances = np.array(variances)"
   ]
  },
  {
   "cell_type": "code",
   "execution_count": 10,
   "metadata": {},
   "outputs": [
    {
     "data": {
      "text/plain": [
       "<matplotlib.text.Text at 0x116664860>"
      ]
     },
     "execution_count": 10,
     "metadata": {},
     "output_type": "execute_result"
    },
    {
     "data": {
      "image/png": "[encoded data removed]",
      "text/plain": [
       "<matplotlib.figure.Figure at 0x1bcda8978>"
      ]
     },
     "metadata": {},
     "output_type": "display_data"
    }
   ],
   "source": [
    "import matplotlib.pyplot as plt\n",
    "%matplotlib inline\n",
    "dts = []\n",
    "for result in results:\n",
    "    dts.append(result[0][1].value_in_unit(unit.femtosecond))\n",
    "plt.scatter(dts, variances)\n",
    "plt.ylim(0,)\n",
    "plt.xlim(0,)\n",
    "plt.hlines(1,0,max(dts), linestyles='--')\n",
    "plt.xlabel('$\\Delta t$')\n",
    "plt.ylabel('var(w)')"
   ]
  },
  {
   "cell_type": "code",
   "execution_count": 11,
   "metadata": {},
   "outputs": [],
   "source": [
    "variances_ = variances[np.isfinite(variances)]"
   ]
  },
  {
   "cell_type": "code",
   "execution_count": 12,
   "metadata": {},
   "outputs": [
    {
     "data": {
      "text/plain": [
       "(array([ 15.,  11.,   7.,   6.,   3.,   5.,   2.,   1.,   0.,   2.]),\n",
       " array([ 0.19091476,  0.48060109,  0.77028743,  1.05997377,  1.3496601 ,\n",
       "         1.63934644,  1.92903278,  2.21871912,  2.50840545,  2.79809179,\n",
       "         3.08777813]),\n",
       " <a list of 10 Patch objects>)"
      ]
     },
     "execution_count": 12,
     "metadata": {},
     "output_type": "execute_result"
    },
    {
     "data": {
      "image/png": "[encoded data removed]",
      "text/plain": [
       "<matplotlib.figure.Figure at 0x1b800ec88>"
      ]
     },
     "metadata": {},
     "output_type": "display_data"
    }
   ],
   "source": [
    "plt.hist(variances_)"
   ]
  },
  {
   "cell_type": "code",
   "execution_count": 13,
   "metadata": {},
   "outputs": [],
   "source": [
    "color_dict = {'ORVRO': 'light blue', 'OVRVO': 'green', 'RVOVR': 'orange', 'VRORV': 'purple'}"
   ]
  },
  {
   "cell_type": "code",
   "execution_count": 14,
   "metadata": {},
   "outputs": [
    {
     "data": {
      "text/plain": [
       "{'dts': array([ 0.5,  1. ,  1.5,  2. ,  2.5,  3. ,  3.5,  4. ,  4.5,  5. ,  5.5,\n",
       "         7. ,  7.5,  8. ]),\n",
       " 'near_eq_estimates': array([  8.00077870e-05,   4.91504163e-04,   1.12361893e-03,\n",
       "          2.44676924e-03,   4.86616597e-03,   8.79781099e-03,\n",
       "          1.46829689e-02,   2.47651904e-02,   3.39909973e-02,\n",
       "          5.13262390e-02,   7.44515896e-02,   2.02990962e-01,\n",
       "          2.74483269e-01,   3.71068616e-01]),\n",
       " 'near_eq_uncertainty': array([  1.02918651e-05,   4.37785342e-05,   1.04265396e-04,\n",
       "          1.92463852e-04,   3.11145761e-04,   4.63432987e-04,\n",
       "          6.53013257e-04,   8.83595724e-04,   1.15805302e-03,\n",
       "          1.47274150e-03,   1.84307263e-03,   3.47438453e-03,\n",
       "          4.40143306e-03,   5.85694124e-03])}"
      ]
     },
     "execution_count": 14,
     "metadata": {},
     "output_type": "execute_result"
    }
   ],
   "source": [
    "near_eq_result_summary['ORVRO']['configuration']"
   ]
  },
  {
   "cell_type": "code",
   "execution_count": 15,
   "metadata": {},
   "outputs": [],
   "source": [
    "from simtk import unit\n",
    "near_eq_estimates = []\n",
    "near_eq_uncs = []\n",
    "for result in results:\n",
    "    scheme, dt, marginal, testsystem = result[0]\n",
    "    dts = near_eq_result_summary[scheme][marginal]['dts']\n",
    "    ind = np.argmin(np.abs(dts - (dt.value_in_unit(unit.femtosecond))))\n",
    "    \n",
    "    \n",
    "    near_eq_estimates.append(near_eq_result_summary[scheme][marginal]['near_eq_estimates'][ind])\n",
    "    near_eq_uncs.append(near_eq_result_summary[scheme][marginal]['near_eq_uncertainty'][ind])"
   ]
  },
  {
   "cell_type": "code",
   "execution_count": 16,
   "metadata": {},
   "outputs": [
    {
     "data": {
      "text/plain": [
       "<matplotlib.text.Text at 0x116998ef0>"
      ]
     },
     "execution_count": 16,
     "metadata": {},
     "output_type": "execute_result"
    },
    {
     "data": {
      "image/png": "[encoded data removed]",
      "text/plain": [
       "<matplotlib.figure.Figure at 0x1166a6c88>"
      ]
     },
     "metadata": {},
     "output_type": "display_data"
    }
   ],
   "source": [
    "plt.scatter(near_eq_estimates, low_order_estimates, alpha=0.5)\n",
    "plt.errorbar(near_eq_estimates, low_order_estimates,\n",
    "             xerr=1.96 * np.array(near_eq_uncs), yerr=1.96 * np.array(low_order_uncs),\n",
    "             fmt='none', alpha=0.5)\n",
    "x_ = np.linspace(np.min(near_eq_estimates), np.max(near_eq_estimates))\n",
    "plt.plot(x_, x_, '--', color='grey')\n",
    "plt.xlabel('near-eq')\n",
    "plt.ylabel('low-order expansion')\n",
    "#plt.xscale('log')\n",
    "#plt.yscale('log')"
   ]
  },
  {
   "cell_type": "markdown",
   "metadata": {},
   "source": [
    "Okay cool -- so it looks like the low-order expansion is producing *higher* estimates than the near-equilibrium approximation...\n",
    "\n",
    "We know that the nested Monte Carlo *under-estimates* the KL divergence, and the severity of this under-estimation increases with $\\sigma_\\text{inner-loop}$ -- Figure 6 currently compares the near-equilibrium approximation to a known under-estimate.\n",
    "\n",
    "This could be informative to add to Figure 6 or an appendix, especially if we have a good idea whether this low-order approximation should be an over-estimate or under-estimate..."
   ]
  },
  {
   "cell_type": "code",
   "execution_count": null,
   "metadata": {},
   "outputs": [],
   "source": []
  }
 ],
 "metadata": {
  "kernelspec": {
   "display_name": "Python 3",
   "language": "python",
   "name": "python3"
  },
  "language_info": {
   "codemirror_mode": {
    "name": "ipython",
    "version": 3
   },
   "file_extension": ".py",
   "mimetype": "text/x-python",
   "name": "python",
   "nbconvert_exporter": "python",
   "pygments_lexer": "ipython3",
   "version": "3.6.0"
  }
 },
 "nbformat": 4,
 "nbformat_minor": 2
}
